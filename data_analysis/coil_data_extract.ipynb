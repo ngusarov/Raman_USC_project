{
 "cells": [
  {
   "cell_type": "code",
   "execution_count": 1,
   "metadata": {},
   "outputs": [],
   "source": [
    "import Labber\n",
    "from utils import *"
   ]
  },
  {
   "cell_type": "code",
   "execution_count": 2,
   "metadata": {},
   "outputs": [],
   "source": [
    "V_flux, freq, S21, file = LoadDataLabber(path_to_data+FileName, DataType, verbose=False)"
   ]
  },
  {
   "cell_type": "code",
   "execution_count": 3,
   "metadata": {},
   "outputs": [],
   "source": [
    "np.save(path_to_arrays+'V_flux_{}'.format(ExpName), V_flux)\n",
    "np.save(path_to_arrays+'freq_{}'.format(ExpName), freq)\n",
    "np.save(path_to_arrays+'S21_{}'.format(ExpName), S21)"
   ]
  }
 ],
 "metadata": {
  "kernelspec": {
   "display_name": "py39_Labber",
   "language": "python",
   "name": "python3"
  },
  "language_info": {
   "codemirror_mode": {
    "name": "ipython",
    "version": 3
   },
   "file_extension": ".py",
   "mimetype": "text/x-python",
   "name": "python",
   "nbconvert_exporter": "python",
   "pygments_lexer": "ipython3",
   "version": "3.9.19"
  }
 },
 "nbformat": 4,
 "nbformat_minor": 2
}
